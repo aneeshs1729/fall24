{
 "cells": [
  {
   "cell_type": "markdown",
   "metadata": {},
   "source": [
    "# Some basic Linux commands\n",
    "\n",
    ":::{tip}\n",
    "Check this very useful resource on [Linux command line for beginners](https://ubuntu.com/tutorials/command-line-for-beginners#1-overview)\n",
    ":::\n",
    "\n",
    "|Command     | Meaning\n",
    "|:--------------------:|:-----------------------------:|\n",
    "|`Ctrl l` | clean screen (keeps command history)\n",
    "|`reset`|to initialize terminal\n",
    "|`Ctrl A`|move cursor to the beginning of command line\n",
    "|`Ctrl E`|move cursor to the end of command line\n",
    "|`ls`|list current working directory content\n",
    "|`ls -l`|list permission strings (d for directory and - for files); creation dates\n",
    "|`ls *.txt`|list all files with txt extension\n",
    "|`ls -al`|also list hidden files\n",
    "|`ls -l`|list files in root directory\n",
    "|`pwd`|print current working directory\n",
    "|`cd /`|change working directory to root\n",
    "|`cd ..`|change working directory one level up\n",
    "|`cd -`|get back to previous directory\n",
    "|`cd ~`|short hand for your home directory\n",
    "|`mkdir <dir_name>`|create new directory dir under current directory\n",
    "|`mkdir {dir1,...,dirN}`|(no spaces) create new directories dir1, ... , dirN under current dir\n",
    "|`mkdir -p dir1/dir2/dir3`|create a parent directory dir1/dir2/dir3 three levels deep\n",
    "|`rm file1 ... fileN`|remove files file1, ..., fileN\n",
    "|`rm -r dir`|remove directory dir and its content recursively\n",
    "|`mv`|move or rename files/directories\n",
    "|`cat file1 ... fileN`|concatenate files `file1`,...,`fileN` and print result\n",
    "|`touch file1 ... fileN`|create empty files or change modification times; good for backups\n",
    "|`./<command>`|execute a local command/program/script\n",
    "|`chmod file`|change file permissions\n",
    "|`man <command>`|to see documentation of `<command>`\n",
    "\n",
    "\n",
    "## Examples\n",
    "Run some examples in a shell\n"
   ]
  }
 ],
 "metadata": {
  "language_info": {
   "name": "python"
  }
 },
 "nbformat": 4,
 "nbformat_minor": 2
}
