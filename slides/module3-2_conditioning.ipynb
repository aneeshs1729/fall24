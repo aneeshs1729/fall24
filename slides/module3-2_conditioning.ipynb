{
 "cells": [
  {
   "cell_type": "markdown",
   "id": "4159be0e",
   "metadata": {
    "hideCode": false,
    "hidePrompt": false,
    "slideshow": {
     "slide_type": "slide"
    }
   },
   "source": [
    "# 8) Conditioning\n",
    "\n",
    "* Discuss Taylor Series activity\n",
    "* Condition numbers\n",
    "* Reliable = well conditioned and stable\n",
    "* Forward and backward error"
   ]
  },
  {
   "cell_type": "code",
   "execution_count": null,
   "id": "eb781a7a",
   "metadata": {
    "slideshow": {
     "slide_type": "skip"
    }
   },
   "outputs": [],
   "source": [
    "using Plots\n",
    "default(linewidth=3, legendfontsize=12, xtickfontsize=12, ytickfontsize=12)"
   ]
  },
  {
   "cell_type": "markdown",
   "id": "415173a8",
   "metadata": {
    "slideshow": {
     "slide_type": "slide"
    }
   },
   "source": [
    "# Exact arithmetic, correctly rounded"
   ]
  },
  {
   "cell_type": "markdown",
   "id": "3d1fcc95",
   "metadata": {
    "cell_style": "split",
    "slideshow": {
     "slide_type": ""
    }
   },
   "source": [
    "Take an elementary math operation $*$ (addition, subtraction, multiplication, division), and the discrete operation that our computers perform, $\\circledast$. Then\n",
    "\n",
    "$$x \\circledast y := \\operatorname{fl}(x * y)$$\n",
    "\n",
    "with a relative accuracy $\\epsilon_{\\text{machine}}$,\n",
    "\n",
    "$$ \\frac{|(x \\circledast y) - (x * y)|}{|x * y|} \\le \\epsilon_{\\text{machine}} . $$"
   ]
  },
  {
   "cell_type": "markdown",
   "id": "d5df8583",
   "metadata": {
    "cell_style": "split",
    "slideshow": {
     "slide_type": "fragment"
    }
   },
   "source": [
    "## Seems easy, how do operations compose?\n",
    "\n",
    "Is this true?\n",
    "\n",
    "$$ \\frac{\\Big\\lvert \\big((x \\circledast y) \\circledast z\\big) - \\big((x * y) * z\\big) \\Big\\rvert}{|(x * y) * z|} \\le^? \\epsilon_{\\text{machine}} $$"
   ]
  },
  {
   "cell_type": "code",
   "execution_count": null,
   "id": "fb3c12ce",
   "metadata": {
    "cell_style": "split",
    "slideshow": {
     "slide_type": "fragment"
    }
   },
   "outputs": [],
   "source": [
    "f(x; y=1, z=-1) = (x+y)+z # The best arbitrary numbers are 0, 1, and -1\n",
    "plot(x -> abs(f(x) - x)/abs(x), xlims=(-1e-15, 1e-15))"
   ]
  },
  {
   "cell_type": "markdown",
   "id": "9a0073c2",
   "metadata": {
    "slideshow": {
     "slide_type": "slide"
    }
   },
   "source": [
    "# Which operation caused the error?\n",
    "\n",
    "1. $\\texttt{tmp} = \\operatorname{fl}(x + 1)$\n",
    "2. $\\operatorname{fl}(\\texttt{tmp} - 1)$\n",
    "\n",
    "Use Julia's [`BigFloat`](https://docs.julialang.org/en/v1/base/numbers/#BigFloats-and-BigInts)"
   ]
  },
  {
   "cell_type": "code",
   "execution_count": null,
   "id": "da0cfd0f",
   "metadata": {
    "cell_style": "split"
   },
   "outputs": [],
   "source": [
    "@show typeof(big(.1))\n",
    "@show big(.1)          # Or BigFloat(.1); parsed as Float64, then promoted\n",
    "@show BigFloat(\".1\");  # Parse directly to BigFloat"
   ]
  },
  {
   "cell_type": "code",
   "execution_count": null,
   "id": "22d3dadf",
   "metadata": {
    "cell_style": "split"
   },
   "outputs": [],
   "source": [
    "tmp = 1e-15 + 1\n",
    "tmp_big = big(1e-15) + 1 # Parse as Float64, then promote\n",
    "abs(tmp - tmp_big) / abs(tmp_big)"
   ]
  },
  {
   "cell_type": "code",
   "execution_count": null,
   "id": "13055e31",
   "metadata": {},
   "outputs": [],
   "source": [
    "r = tmp - 1\n",
    "r_big = big(tmp) - 1\n",
    "abs(r - r_big) / abs(r_big)"
   ]
  },
  {
   "cell_type": "markdown",
   "id": "2b931233",
   "metadata": {
    "slideshow": {
     "slide_type": "slide"
    }
   },
   "source": [
    "# Activity\n",
    "\n",
    "* Use Julia, Jupyter, Git\n",
    "* Look at how fast series converge when taking only finitely many terms\n",
    "* Explore instability, as is occuring for large negative `x` above, but not for the standard library `expm1`"
   ]
  },
  {
   "cell_type": "code",
   "execution_count": null,
   "id": "d3776ad9",
   "metadata": {},
   "outputs": [],
   "source": [
    "function myexp(x, k)\n",
    "    sum = 0\n",
    "    term = 1\n",
    "    n = 1\n",
    "    # modify so at most k terms are summed\n",
    "    while sum + term != sum\n",
    "        sum += term\n",
    "        term *= x / n\n",
    "        # stop at first k terms\n",
    "        if n == k\n",
    "            break\n",
    "        end\n",
    "        n += 1\n",
    "    end\n",
    "    sum\n",
    "end\n",
    "\n",
    "myexp(-30, 1000), exp(-30)"
   ]
  },
  {
   "cell_type": "code",
   "execution_count": null,
   "id": "84feb523",
   "metadata": {
    "slideshow": {
     "slide_type": "skip"
    }
   },
   "outputs": [],
   "source": [
    "rel_error(x, k) = abs(myexp(x, k) - exp(x)) / exp(x)\n",
    "ks = 2 .^ (0:10)  # [1, 2, 4, ..., 1024];"
   ]
  },
  {
   "cell_type": "code",
   "execution_count": null,
   "id": "fa9bbc4c",
   "metadata": {
    "cell_style": "split"
   },
   "outputs": [],
   "source": [
    "plot(ks, k -> rel_error(-10, k), xscale=:log10, yscale=:log10)"
   ]
  },
  {
   "cell_type": "code",
   "execution_count": null,
   "id": "b85efacc",
   "metadata": {
    "cell_style": "split"
   },
   "outputs": [],
   "source": [
    "plot(x -> rel_error(x, 1000) + 1e-17, xlims=(-20, 20), yscale=:log10)"
   ]
  },
  {
   "cell_type": "markdown",
   "id": "617909dc",
   "metadata": {
    "slideshow": {
     "slide_type": "slide"
    }
   },
   "source": [
    "# What happened?\n",
    "Let's look at the terms for positive and negative $x$"
   ]
  },
  {
   "cell_type": "code",
   "execution_count": null,
   "id": "41971b71",
   "metadata": {
    "cell_style": "split"
   },
   "outputs": [],
   "source": [
    "function expterms(x, k=50)\n",
    "    term = 1.\n",
    "    terms = [term]\n",
    "    for n in 1:k\n",
    "        term *= x / n\n",
    "        push!(terms, term)\n",
    "    end\n",
    "    terms\n",
    "end\n",
    "x = -10\n",
    "@show sum(expterms(x)) - exp(x)\n",
    "@show (sum(expterms(x)) - exp(x)) / exp(x)\n",
    "expterms(x)"
   ]
  },
  {
   "cell_type": "code",
   "execution_count": null,
   "id": "5e1a6172",
   "metadata": {
    "cell_style": "split",
    "slideshow": {
     "slide_type": ""
    }
   },
   "outputs": [],
   "source": [
    "x = -10\n",
    "@show exp(x)\n",
    "bar(expterms(x))"
   ]
  },
  {
   "cell_type": "markdown",
   "id": "a2c8666b",
   "metadata": {
    "slideshow": {
     "slide_type": "slide"
    }
   },
   "source": [
    "# Conditioning\n",
    "\n",
    "> What sort of functions cause small errors to become big?\n",
    "\n",
    "Consider a function $f: X \\to Y$ and define the **absolute condition number**\n",
    "$$ \\hat\\kappa = \\lim_{\\delta \\to 0} \\max_{|\\delta x| < \\delta} \\frac{|f(x + \\delta x) - f(x)|}{|\\delta x|} = \\max_{\\delta x} \\frac{|\\delta f|}{|\\delta x|}. $$\n",
    "If $f$ is differentiable, then $\\hat\\kappa = |f'(x)|$.\n",
    "\n",
    "Floating point offers relative accuracy, so it's more useful to discuss **relative condition number**,\n",
    "$$ \\kappa = \\max_{\\delta x} \\frac{|\\delta f|/|f|}{|\\delta x|/|x|}\n",
    "= \\max_{\\delta x} \\Big[ \\frac{|\\delta f|/|\\delta x|}{|f| / |x|} \\Big] $$\n",
    "or, if $f$ is differentiable,\n",
    "$$ \\kappa = |f'(x)| \\frac{|x|}{|f|} . $$"
   ]
  },
  {
   "cell_type": "markdown",
   "id": "c33df973",
   "metadata": {
    "slideshow": {
     "slide_type": "slide"
    }
   },
   "source": [
    "# Condition numbers\n",
    "\n",
    "> $$ \\kappa = |f'(x)| \\frac{|x|}{|f|} $$"
   ]
  },
  {
   "cell_type": "code",
   "execution_count": null,
   "id": "e33212a9",
   "metadata": {},
   "outputs": [],
   "source": [
    "f(x) = x - 1; fp(x) = 1\n",
    "plot(x -> abs(fp(x)) * abs(x) / abs(f(x)), xlims=(0, 2))"
   ]
  },
  {
   "cell_type": "markdown",
   "id": "cf70b0b6",
   "metadata": {
    "slideshow": {
     "slide_type": "slide"
    }
   },
   "source": [
    "# Back to $f(x) = e^x - 1$"
   ]
  },
  {
   "cell_type": "code",
   "execution_count": null,
   "id": "e3fbe77d",
   "metadata": {
    "cell_style": "split"
   },
   "outputs": [],
   "source": [
    "f(x) = exp(x) - 1\n",
    "fp(x) = exp(x)\n",
    "plot(x -> abs(fp(x)) * abs(x) / abs(f(x)))"
   ]
  },
  {
   "cell_type": "markdown",
   "id": "b14994aa",
   "metadata": {
    "cell_style": "split",
    "slideshow": {
     "slide_type": "fragment"
    }
   },
   "source": [
    "## What does it mean?\n",
    "\n",
    "* The function $f(x) = e^x - 1$ is well-conditioned\n",
    "* The function $f_1(x) = e^x$ is well-conditioned\n",
    "* The function $f_2(x) = x - 1$ is ill-conditioned for $x \\approx 1$\n",
    "\n",
    "## The **algorithm** is unstable\n",
    "\n",
    "* `f(x) = exp(x) - 1` is unstable\n",
    "* Algorithms are made from elementary operations\n",
    "* Unstable algorithms do something ill-conditioned"
   ]
  },
  {
   "cell_type": "markdown",
   "id": "ba7e80f4",
   "metadata": {
    "slideshow": {
     "slide_type": "slide"
    }
   },
   "source": [
    "# A stable algorithm"
   ]
  },
  {
   "cell_type": "markdown",
   "id": "ee9f8cc6",
   "metadata": {
    "cell_style": "split",
    "slideshow": {
     "slide_type": ""
    }
   },
   "source": [
    "We used the series expansion previously.\n",
    "* accurate for small $x$\n",
    "* less accurate for negative $x$ (see activity)\n",
    "* we could use symmetry to fix\n",
    "* inefficient because we have to sum lots of terms\n",
    "\n",
    "Standard math libraries define a more efficient stable variant, $\\texttt{expm1}(x) = e^x - 1$."
   ]
  },
  {
   "cell_type": "code",
   "execution_count": null,
   "id": "b7c4e3fa",
   "metadata": {
    "cell_style": "split"
   },
   "outputs": [],
   "source": [
    "expm1(-40) + 1, exp(-40)"
   ]
  },
  {
   "cell_type": "code",
   "execution_count": null,
   "id": "ccf0c2bb",
   "metadata": {
    "cell_style": "split",
    "scrolled": true
   },
   "outputs": [],
   "source": [
    "plot([x -> exp(x) - 1,\n",
    "      x -> expm1(x)],\n",
    "    xlims = (-1e-15, 1e-15))"
   ]
  },
  {
   "cell_type": "markdown",
   "id": "5975cc87",
   "metadata": {
    "slideshow": {
     "slide_type": "slide"
    }
   },
   "source": [
    "# Another example $\\log(1 + x)$\n",
    "\n",
    "What is the condition number of $f(x) = \\log(1 + x)$ for $x \\approx 0$?"
   ]
  },
  {
   "cell_type": "code",
   "execution_count": null,
   "id": "8f2a60c3",
   "metadata": {
    "cell_style": "split",
    "scrolled": true,
    "slideshow": {
     "slide_type": "fragment"
    }
   },
   "outputs": [],
   "source": [
    "plot([x -> log(1 + x),\n",
    "      x -> log1p(x)],\n",
    "    xlims = (-1e-15, 1e-15))"
   ]
  },
  {
   "cell_type": "code",
   "execution_count": null,
   "id": "4300fee4",
   "metadata": {
    "cell_style": "split"
   },
   "outputs": [],
   "source": [
    "cond1(x) = abs(1/(1+x) * x / log1p(x))\n",
    "cond2(x) = abs(1/x * x / log(x))\n",
    "plot([cond1 cond2], xlims=(-1, 2), ylims=(0, 100))"
   ]
  },
  {
   "cell_type": "markdown",
   "id": "ca3502f6",
   "metadata": {
    "slideshow": {
     "slide_type": "slide"
    }
   },
   "source": [
    "# Reliable = well-conditioned and stable\n",
    "\n",
    "## Mathematical functions $f(x)$ can be ill-conditioned (big $\\kappa$)\n",
    "* Modeling is how we turn an abstract question into a mathematical function\n",
    "* We want well-conditioned models (small $\\kappa$)\n",
    "* Some systems are intrinsically sensitive: fracture, chaotic systems, combustion\n",
    "\n",
    "## Algorithms `f(x)` can be unstable\n",
    "* Unreliable, though sometimes practical\n",
    "* Unstable algorithms are constructed from ill-conditioned parts"
   ]
  },
  {
   "cell_type": "markdown",
   "id": "07cd924a",
   "metadata": {
    "slideshow": {
     "slide_type": "slide"
    }
   },
   "source": [
    "# An ill-conditioned problem from Paul Olum\n",
    "\n",
    "From [Surely You're Joking, Mr. Feynman](https://sistemas.fciencias.unam.mx/%7Ecompcuantica/RICHARD%20P.%20FEYNMAN-SURELY%20YOU%27RE%20JOKING%20MR.%20FEYNMAN.PDF) (page 113)\n",
    "\n",
    "> So Paul is walking past the lunch place and these guys are all excited. \"Hey, \n",
    "Paul!\" they call out. \"Feynman's terrific! We give him a problem that can be stated in ten \n",
    "seconds, and in a minute he gets the answer to 10 percent. Why don't you give him one?\" \n",
    "Without hardly stopping, he says, \"The tangent of 10 to the 100th.\" \n",
    "I was sunk: you have to divide by pi to 100 decimal places! It was hopeless."
   ]
  },
  {
   "cell_type": "markdown",
   "id": "6ecb7b9c",
   "metadata": {
    "cell_style": "split"
   },
   "source": [
    "What's the condition number?\n",
    "\n",
    "$$ \\kappa = |f'(x)| \\frac{|x|}{|f|} $$\n",
    "\n",
    "* $f(x) = \\tan x$\n",
    "* $f'(x) = 1 + \\tan^2 x$\n",
    "\n",
    "$$ \\kappa = \\lvert x \\rvert \\Bigl( \\lvert \\tan x \\rvert + \\bigl\\lvert \\frac{1}{\\tan x} \\bigr\\rvert \\Bigr)$$"
   ]
  },
  {
   "cell_type": "code",
   "execution_count": null,
   "id": "3c52979f",
   "metadata": {
    "cell_style": "split"
   },
   "outputs": [],
   "source": [
    "tan(1e100)"
   ]
  },
  {
   "cell_type": "code",
   "execution_count": null,
   "id": "f20ecd97",
   "metadata": {
    "cell_style": "split"
   },
   "outputs": [],
   "source": [
    "tan(BigFloat(\"1e100\", precision=400))"
   ]
  },
  {
   "cell_type": "markdown",
   "id": "ae0b0774",
   "metadata": {
    "cell_style": "center",
    "slideshow": {
     "slide_type": "slide"
    }
   },
   "source": [
    "# Go find some functions..."
   ]
  },
  {
   "cell_type": "markdown",
   "id": "9a15e2e3",
   "metadata": {
    "cell_style": "split",
    "slideshow": {
     "slide_type": ""
    }
   },
   "source": [
    "* Find a function $f(x)$ that models something you're interested in\n",
    "* Plot its condition number $\\kappa$ as a function of $x$\n",
    "* Plot the relative error (using single or double precision; compare using Julia's `big`)\n",
    "* Is the relative error ever much bigger than $\\kappa \\epsilon_{\\text{machine}}$?\n",
    "* Can you find what caused the instability?\n",
    "* Share on Zulip\n",
    "\n",
    "## Further reading: [FNC Introduction](https://fncbook.github.io/fnc/intro/overview.html)"
   ]
  },
  {
   "cell_type": "markdown",
   "id": "c282abd5",
   "metadata": {
    "cell_style": "split"
   },
   "source": [
    "## How big are these condition numbers?\n",
    "\n",
    "* $f(x) = x+c$\n",
    "* $f(x) = cx$\n",
    "* $f(x) = x^p$\n",
    "* $f(x) = e^x$\n",
    "* $f(x) = \\log x$\n",
    "* $f(x) = \\sin x$"
   ]
  }
 ],
 "metadata": {
  "celltoolbar": "Slideshow",
  "hide_code_all_hidden": false,
  "kernelspec": {
   "display_name": "Julia 1.10.4",
   "language": "julia",
   "name": "julia-1.10"
  },
  "language_info": {
   "file_extension": ".jl",
   "mimetype": "application/julia",
   "name": "julia",
   "version": "1.10.4"
  },
  "rise": {
   "enable_chalkboard": true
  }
 },
 "nbformat": 4,
 "nbformat_minor": 5
}
